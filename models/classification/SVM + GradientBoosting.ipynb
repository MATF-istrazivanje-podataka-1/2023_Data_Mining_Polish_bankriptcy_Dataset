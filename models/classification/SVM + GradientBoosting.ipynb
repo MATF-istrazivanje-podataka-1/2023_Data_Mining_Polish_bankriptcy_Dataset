{
 "cells": [
  {
   "cell_type": "markdown",
   "id": "558a0d28",
   "metadata": {},
   "source": [
    "## SVM"
   ]
  },
  {
   "cell_type": "code",
   "execution_count": 1,
   "id": "77dbd5b5",
   "metadata": {},
   "outputs": [],
   "source": [
    "import numpy as np\n",
    "import matplotlib.pyplot as plt\n",
    "import pandas as pd\n",
    "import seaborn as sns\n",
    "from joblib import load"
   ]
  },
  {
   "cell_type": "code",
   "execution_count": 2,
   "id": "dfe5c36f",
   "metadata": {},
   "outputs": [],
   "source": [
    "X_train, X_test, Y_train, Y_test = load('../../preprocessing/classification_data.joblib')"
   ]
  },
  {
   "cell_type": "code",
   "execution_count": 3,
   "id": "a1870d4c",
   "metadata": {},
   "outputs": [],
   "source": [
    "from sklearn.preprocessing import StandardScaler\n",
    "feature_names = X_train.columns\n",
    "scaler = StandardScaler()\n",
    "scaler.fit(X_train)\n",
    "X_train = pd.DataFrame(scaler.transform(X_train), columns=feature_names)\n",
    "X_test = pd.DataFrame(scaler.transform(X_test), columns=feature_names)"
   ]
  },
  {
   "cell_type": "code",
   "execution_count": 4,
   "id": "de4b1838",
   "metadata": {
    "scrolled": true
   },
   "outputs": [
    {
     "data": {
      "text/html": [
       "<div>\n",
       "<style scoped>\n",
       "    .dataframe tbody tr th:only-of-type {\n",
       "        vertical-align: middle;\n",
       "    }\n",
       "\n",
       "    .dataframe tbody tr th {\n",
       "        vertical-align: top;\n",
       "    }\n",
       "\n",
       "    .dataframe thead th {\n",
       "        text-align: right;\n",
       "    }\n",
       "</style>\n",
       "<table border=\"1\" class=\"dataframe\">\n",
       "  <thead>\n",
       "    <tr style=\"text-align: right;\">\n",
       "      <th></th>\n",
       "      <th>CreditScore</th>\n",
       "      <th>Age</th>\n",
       "      <th>Tenure</th>\n",
       "      <th>Balance</th>\n",
       "      <th>NumOfProducts</th>\n",
       "      <th>HasCrCard</th>\n",
       "      <th>IsActiveMember</th>\n",
       "      <th>EstimatedSalary</th>\n",
       "      <th>Satisfaction Score</th>\n",
       "      <th>Point Earned</th>\n",
       "      <th>Geography_France</th>\n",
       "      <th>Geography_Germany</th>\n",
       "      <th>Geography_Spain</th>\n",
       "      <th>Gender_Female</th>\n",
       "      <th>Gender_Male</th>\n",
       "      <th>Card Type_DIAMOND</th>\n",
       "      <th>Card Type_GOLD</th>\n",
       "      <th>Card Type_PLATINUM</th>\n",
       "      <th>Card Type_SILVER</th>\n",
       "    </tr>\n",
       "  </thead>\n",
       "  <tbody>\n",
       "    <tr>\n",
       "      <th>0</th>\n",
       "      <td>0.766553</td>\n",
       "      <td>0.003691</td>\n",
       "      <td>-0.002255</td>\n",
       "      <td>0.645671</td>\n",
       "      <td>-0.909126</td>\n",
       "      <td>0.647802</td>\n",
       "      <td>-1.037226</td>\n",
       "      <td>0.410519</td>\n",
       "      <td>-0.711288</td>\n",
       "      <td>0.699414</td>\n",
       "      <td>-1.004544</td>\n",
       "      <td>1.718607</td>\n",
       "      <td>-0.569344</td>\n",
       "      <td>1.103459</td>\n",
       "      <td>-1.103459</td>\n",
       "      <td>-0.579608</td>\n",
       "      <td>1.729591</td>\n",
       "      <td>-0.573860</td>\n",
       "      <td>-0.577761</td>\n",
       "    </tr>\n",
       "    <tr>\n",
       "      <th>1</th>\n",
       "      <td>-0.143445</td>\n",
       "      <td>0.098180</td>\n",
       "      <td>1.378460</td>\n",
       "      <td>1.246721</td>\n",
       "      <td>-0.909126</td>\n",
       "      <td>0.647802</td>\n",
       "      <td>0.964110</td>\n",
       "      <td>0.432764</td>\n",
       "      <td>-0.000379</td>\n",
       "      <td>0.240998</td>\n",
       "      <td>-1.004544</td>\n",
       "      <td>1.718607</td>\n",
       "      <td>-0.569344</td>\n",
       "      <td>-0.906241</td>\n",
       "      <td>0.906241</td>\n",
       "      <td>-0.579608</td>\n",
       "      <td>-0.578171</td>\n",
       "      <td>1.742584</td>\n",
       "      <td>-0.577761</td>\n",
       "    </tr>\n",
       "    <tr>\n",
       "      <th>2</th>\n",
       "      <td>1.573141</td>\n",
       "      <td>1.043070</td>\n",
       "      <td>1.033281</td>\n",
       "      <td>0.347104</td>\n",
       "      <td>-0.909126</td>\n",
       "      <td>-1.543681</td>\n",
       "      <td>-1.037226</td>\n",
       "      <td>-1.353484</td>\n",
       "      <td>1.421438</td>\n",
       "      <td>0.166065</td>\n",
       "      <td>-1.004544</td>\n",
       "      <td>1.718607</td>\n",
       "      <td>-0.569344</td>\n",
       "      <td>1.103459</td>\n",
       "      <td>-1.103459</td>\n",
       "      <td>-0.579608</td>\n",
       "      <td>-0.578171</td>\n",
       "      <td>1.742584</td>\n",
       "      <td>-0.577761</td>\n",
       "    </tr>\n",
       "    <tr>\n",
       "      <th>3</th>\n",
       "      <td>-0.815602</td>\n",
       "      <td>-1.508133</td>\n",
       "      <td>-1.037792</td>\n",
       "      <td>0.807043</td>\n",
       "      <td>-0.909126</td>\n",
       "      <td>-1.543681</td>\n",
       "      <td>0.964110</td>\n",
       "      <td>-0.579393</td>\n",
       "      <td>0.710529</td>\n",
       "      <td>0.104355</td>\n",
       "      <td>-1.004544</td>\n",
       "      <td>-0.581867</td>\n",
       "      <td>1.756408</td>\n",
       "      <td>-0.906241</td>\n",
       "      <td>0.906241</td>\n",
       "      <td>-0.579608</td>\n",
       "      <td>1.729591</td>\n",
       "      <td>-0.573860</td>\n",
       "      <td>-0.577761</td>\n",
       "    </tr>\n",
       "    <tr>\n",
       "      <th>4</th>\n",
       "      <td>-0.174467</td>\n",
       "      <td>1.232048</td>\n",
       "      <td>-1.382971</td>\n",
       "      <td>-1.226168</td>\n",
       "      <td>0.816189</td>\n",
       "      <td>0.647802</td>\n",
       "      <td>0.964110</td>\n",
       "      <td>1.328333</td>\n",
       "      <td>0.710529</td>\n",
       "      <td>1.426708</td>\n",
       "      <td>-1.004544</td>\n",
       "      <td>-0.581867</td>\n",
       "      <td>1.756408</td>\n",
       "      <td>-0.906241</td>\n",
       "      <td>0.906241</td>\n",
       "      <td>-0.579608</td>\n",
       "      <td>-0.578171</td>\n",
       "      <td>1.742584</td>\n",
       "      <td>-0.577761</td>\n",
       "    </tr>\n",
       "  </tbody>\n",
       "</table>\n",
       "</div>"
      ],
      "text/plain": [
       "   CreditScore       Age    Tenure   Balance  NumOfProducts  HasCrCard  \\\n",
       "0     0.766553  0.003691 -0.002255  0.645671      -0.909126   0.647802   \n",
       "1    -0.143445  0.098180  1.378460  1.246721      -0.909126   0.647802   \n",
       "2     1.573141  1.043070  1.033281  0.347104      -0.909126  -1.543681   \n",
       "3    -0.815602 -1.508133 -1.037792  0.807043      -0.909126  -1.543681   \n",
       "4    -0.174467  1.232048 -1.382971 -1.226168       0.816189   0.647802   \n",
       "\n",
       "   IsActiveMember  EstimatedSalary  Satisfaction Score  Point Earned  \\\n",
       "0       -1.037226         0.410519           -0.711288      0.699414   \n",
       "1        0.964110         0.432764           -0.000379      0.240998   \n",
       "2       -1.037226        -1.353484            1.421438      0.166065   \n",
       "3        0.964110        -0.579393            0.710529      0.104355   \n",
       "4        0.964110         1.328333            0.710529      1.426708   \n",
       "\n",
       "   Geography_France  Geography_Germany  Geography_Spain  Gender_Female  \\\n",
       "0         -1.004544           1.718607        -0.569344       1.103459   \n",
       "1         -1.004544           1.718607        -0.569344      -0.906241   \n",
       "2         -1.004544           1.718607        -0.569344       1.103459   \n",
       "3         -1.004544          -0.581867         1.756408      -0.906241   \n",
       "4         -1.004544          -0.581867         1.756408      -0.906241   \n",
       "\n",
       "   Gender_Male  Card Type_DIAMOND  Card Type_GOLD  Card Type_PLATINUM  \\\n",
       "0    -1.103459          -0.579608        1.729591           -0.573860   \n",
       "1     0.906241          -0.579608       -0.578171            1.742584   \n",
       "2    -1.103459          -0.579608       -0.578171            1.742584   \n",
       "3     0.906241          -0.579608        1.729591           -0.573860   \n",
       "4     0.906241          -0.579608       -0.578171            1.742584   \n",
       "\n",
       "   Card Type_SILVER  \n",
       "0         -0.577761  \n",
       "1         -0.577761  \n",
       "2         -0.577761  \n",
       "3         -0.577761  \n",
       "4         -0.577761  "
      ]
     },
     "execution_count": 4,
     "metadata": {},
     "output_type": "execute_result"
    }
   ],
   "source": [
    "X_train.head()"
   ]
  },
  {
   "cell_type": "code",
   "execution_count": 5,
   "id": "bbc41e23",
   "metadata": {},
   "outputs": [],
   "source": [
    "from sklearn.svm import SVC\n",
    "from sklearn.model_selection import GridSearchCV"
   ]
  },
  {
   "cell_type": "code",
   "execution_count": 6,
   "id": "a17bd77d",
   "metadata": {},
   "outputs": [],
   "source": [
    "params = [\n",
    "            {\n",
    "                'kernel': ['linear'],\n",
    "                'C': [0.01, 0.1, 1, 10],\n",
    "            },\n",
    "            {\n",
    "                'kernel': ['rbf'],\n",
    "                'C': [0.01, 0.1, 1, 10],\n",
    "                'gamma': [0.01, 0.1, 1, 10],\n",
    "            },\n",
    "         ]"
   ]
  },
  {
   "cell_type": "code",
   "execution_count": 7,
   "id": "12d7c1f1",
   "metadata": {},
   "outputs": [],
   "source": [
    "gs = GridSearchCV(SVC(class_weight={1:2,0:1}), params, scoring='f1', cv=5, verbose=5)"
   ]
  },
  {
   "cell_type": "code",
   "execution_count": 98,
   "id": "acf2abb8",
   "metadata": {
    "scrolled": true
   },
   "outputs": [
    {
     "name": "stdout",
     "output_type": "stream",
     "text": [
      "Fitting 5 folds for each of 20 candidates, totalling 100 fits\n",
      "[CV 1/5] END .............C=0.01, kernel=linear;, score=0.414 total time=   0.6s\n",
      "[CV 2/5] END .............C=0.01, kernel=linear;, score=0.452 total time=   0.5s\n",
      "[CV 3/5] END .............C=0.01, kernel=linear;, score=0.462 total time=   0.5s\n",
      "[CV 4/5] END .............C=0.01, kernel=linear;, score=0.454 total time=   0.5s\n",
      "[CV 5/5] END .............C=0.01, kernel=linear;, score=0.483 total time=   0.5s\n",
      "[CV 1/5] END ..............C=0.1, kernel=linear;, score=0.420 total time=   0.7s\n",
      "[CV 2/5] END ..............C=0.1, kernel=linear;, score=0.452 total time=   0.7s\n",
      "[CV 3/5] END ..............C=0.1, kernel=linear;, score=0.476 total time=   0.6s\n",
      "[CV 4/5] END ..............C=0.1, kernel=linear;, score=0.462 total time=   0.7s\n",
      "[CV 5/5] END ..............C=0.1, kernel=linear;, score=0.496 total time=   0.6s\n",
      "[CV 1/5] END ................C=1, kernel=linear;, score=0.417 total time=   1.2s\n",
      "[CV 2/5] END ................C=1, kernel=linear;, score=0.452 total time=   1.1s\n",
      "[CV 3/5] END ................C=1, kernel=linear;, score=0.473 total time=   1.1s\n",
      "[CV 4/5] END ................C=1, kernel=linear;, score=0.462 total time=   1.1s\n",
      "[CV 5/5] END ................C=1, kernel=linear;, score=0.495 total time=   1.1s\n",
      "[CV 1/5] END ...............C=10, kernel=linear;, score=0.418 total time=   3.7s\n",
      "[CV 2/5] END ...............C=10, kernel=linear;, score=0.452 total time=   3.9s\n",
      "[CV 3/5] END ...............C=10, kernel=linear;, score=0.473 total time=   3.7s\n",
      "[CV 4/5] END ...............C=10, kernel=linear;, score=0.462 total time=   3.8s\n",
      "[CV 5/5] END ...............C=10, kernel=linear;, score=0.495 total time=   3.9s\n",
      "[CV 1/5] END ....C=0.01, gamma=0.01, kernel=rbf;, score=0.000 total time=   0.8s\n",
      "[CV 2/5] END ....C=0.01, gamma=0.01, kernel=rbf;, score=0.000 total time=   0.9s\n",
      "[CV 3/5] END ....C=0.01, gamma=0.01, kernel=rbf;, score=0.000 total time=   0.8s\n",
      "[CV 4/5] END ....C=0.01, gamma=0.01, kernel=rbf;, score=0.000 total time=   0.8s\n",
      "[CV 5/5] END ....C=0.01, gamma=0.01, kernel=rbf;, score=0.000 total time=   0.9s\n",
      "[CV 1/5] END .....C=0.01, gamma=0.1, kernel=rbf;, score=0.000 total time=   0.9s\n",
      "[CV 2/5] END .....C=0.01, gamma=0.1, kernel=rbf;, score=0.000 total time=   0.9s\n",
      "[CV 3/5] END .....C=0.01, gamma=0.1, kernel=rbf;, score=0.000 total time=   0.9s\n",
      "[CV 4/5] END .....C=0.01, gamma=0.1, kernel=rbf;, score=0.000 total time=   0.9s\n",
      "[CV 5/5] END .....C=0.01, gamma=0.1, kernel=rbf;, score=0.000 total time=   0.9s\n",
      "[CV 1/5] END .......C=0.01, gamma=1, kernel=rbf;, score=0.000 total time=   1.3s\n",
      "[CV 2/5] END .......C=0.01, gamma=1, kernel=rbf;, score=0.000 total time=   1.3s\n",
      "[CV 3/5] END .......C=0.01, gamma=1, kernel=rbf;, score=0.000 total time=   1.3s\n",
      "[CV 4/5] END .......C=0.01, gamma=1, kernel=rbf;, score=0.000 total time=   1.3s\n",
      "[CV 5/5] END .......C=0.01, gamma=1, kernel=rbf;, score=0.000 total time=   1.3s\n",
      "[CV 1/5] END ......C=0.01, gamma=10, kernel=rbf;, score=0.000 total time=   1.3s\n",
      "[CV 2/5] END ......C=0.01, gamma=10, kernel=rbf;, score=0.000 total time=   1.4s\n",
      "[CV 3/5] END ......C=0.01, gamma=10, kernel=rbf;, score=0.000 total time=   1.4s\n",
      "[CV 4/5] END ......C=0.01, gamma=10, kernel=rbf;, score=0.000 total time=   1.4s\n",
      "[CV 5/5] END ......C=0.01, gamma=10, kernel=rbf;, score=0.000 total time=   1.4s\n",
      "[CV 1/5] END .....C=0.1, gamma=0.01, kernel=rbf;, score=0.360 total time=   0.9s\n",
      "[CV 2/5] END .....C=0.1, gamma=0.01, kernel=rbf;, score=0.448 total time=   0.9s\n",
      "[CV 3/5] END .....C=0.1, gamma=0.01, kernel=rbf;, score=0.410 total time=   0.8s\n",
      "[CV 4/5] END .....C=0.1, gamma=0.01, kernel=rbf;, score=0.368 total time=   0.9s\n",
      "[CV 5/5] END .....C=0.1, gamma=0.01, kernel=rbf;, score=0.432 total time=   0.8s\n",
      "[CV 1/5] END ......C=0.1, gamma=0.1, kernel=rbf;, score=0.436 total time=   0.9s\n",
      "[CV 2/5] END ......C=0.1, gamma=0.1, kernel=rbf;, score=0.496 total time=   0.9s\n",
      "[CV 3/5] END ......C=0.1, gamma=0.1, kernel=rbf;, score=0.442 total time=   0.8s\n",
      "[CV 4/5] END ......C=0.1, gamma=0.1, kernel=rbf;, score=0.429 total time=   0.9s\n",
      "[CV 5/5] END ......C=0.1, gamma=0.1, kernel=rbf;, score=0.444 total time=   0.9s\n",
      "[CV 1/5] END ........C=0.1, gamma=1, kernel=rbf;, score=0.000 total time=   1.3s\n",
      "[CV 2/5] END ........C=0.1, gamma=1, kernel=rbf;, score=0.000 total time=   1.4s\n",
      "[CV 3/5] END ........C=0.1, gamma=1, kernel=rbf;, score=0.000 total time=   1.4s\n",
      "[CV 4/5] END ........C=0.1, gamma=1, kernel=rbf;, score=0.000 total time=   1.4s\n",
      "[CV 5/5] END ........C=0.1, gamma=1, kernel=rbf;, score=0.000 total time=   1.4s\n",
      "[CV 1/5] END .......C=0.1, gamma=10, kernel=rbf;, score=0.000 total time=   1.5s\n",
      "[CV 2/5] END .......C=0.1, gamma=10, kernel=rbf;, score=0.000 total time=   1.5s\n",
      "[CV 3/5] END .......C=0.1, gamma=10, kernel=rbf;, score=0.000 total time=   1.5s\n",
      "[CV 4/5] END .......C=0.1, gamma=10, kernel=rbf;, score=0.000 total time=   1.5s\n",
      "[CV 5/5] END .......C=0.1, gamma=10, kernel=rbf;, score=0.000 total time=   1.4s\n",
      "[CV 1/5] END .......C=1, gamma=0.01, kernel=rbf;, score=0.531 total time=   0.8s\n",
      "[CV 2/5] END .......C=1, gamma=0.01, kernel=rbf;, score=0.531 total time=   0.8s\n",
      "[CV 3/5] END .......C=1, gamma=0.01, kernel=rbf;, score=0.532 total time=   0.8s\n",
      "[CV 4/5] END .......C=1, gamma=0.01, kernel=rbf;, score=0.543 total time=   0.8s\n",
      "[CV 5/5] END .......C=1, gamma=0.01, kernel=rbf;, score=0.555 total time=   0.8s\n",
      "[CV 1/5] END ........C=1, gamma=0.1, kernel=rbf;, score=0.551 total time=   0.9s\n",
      "[CV 2/5] END ........C=1, gamma=0.1, kernel=rbf;, score=0.626 total time=   0.9s\n",
      "[CV 3/5] END ........C=1, gamma=0.1, kernel=rbf;, score=0.560 total time=   0.8s\n",
      "[CV 4/5] END ........C=1, gamma=0.1, kernel=rbf;, score=0.560 total time=   0.8s\n",
      "[CV 5/5] END ........C=1, gamma=0.1, kernel=rbf;, score=0.590 total time=   0.8s\n",
      "[CV 1/5] END ..........C=1, gamma=1, kernel=rbf;, score=0.025 total time=   1.5s\n",
      "[CV 2/5] END ..........C=1, gamma=1, kernel=rbf;, score=0.026 total time=   1.5s\n",
      "[CV 3/5] END ..........C=1, gamma=1, kernel=rbf;, score=0.032 total time=   1.5s\n",
      "[CV 4/5] END ..........C=1, gamma=1, kernel=rbf;, score=0.038 total time=   1.5s\n",
      "[CV 5/5] END ..........C=1, gamma=1, kernel=rbf;, score=0.056 total time=   1.5s\n",
      "[CV 1/5] END .........C=1, gamma=10, kernel=rbf;, score=0.000 total time=   1.6s\n",
      "[CV 2/5] END .........C=1, gamma=10, kernel=rbf;, score=0.000 total time=   1.7s\n",
      "[CV 3/5] END .........C=1, gamma=10, kernel=rbf;, score=0.000 total time=   1.6s\n",
      "[CV 4/5] END .........C=1, gamma=10, kernel=rbf;, score=0.000 total time=   1.6s\n",
      "[CV 5/5] END .........C=1, gamma=10, kernel=rbf;, score=0.000 total time=   1.7s\n",
      "[CV 1/5] END ......C=10, gamma=0.01, kernel=rbf;, score=0.569 total time=   0.8s\n",
      "[CV 2/5] END ......C=10, gamma=0.01, kernel=rbf;, score=0.612 total time=   0.8s\n",
      "[CV 3/5] END ......C=10, gamma=0.01, kernel=rbf;, score=0.605 total time=   0.8s\n",
      "[CV 4/5] END ......C=10, gamma=0.01, kernel=rbf;, score=0.607 total time=   0.8s\n",
      "[CV 5/5] END ......C=10, gamma=0.01, kernel=rbf;, score=0.589 total time=   0.8s\n",
      "[CV 1/5] END .......C=10, gamma=0.1, kernel=rbf;, score=0.504 total time=   1.0s\n",
      "[CV 2/5] END .......C=10, gamma=0.1, kernel=rbf;, score=0.528 total time=   1.0s\n",
      "[CV 3/5] END .......C=10, gamma=0.1, kernel=rbf;, score=0.504 total time=   1.0s\n",
      "[CV 4/5] END .......C=10, gamma=0.1, kernel=rbf;, score=0.490 total time=   1.0s\n",
      "[CV 5/5] END .......C=10, gamma=0.1, kernel=rbf;, score=0.517 total time=   1.0s\n",
      "[CV 1/5] END .........C=10, gamma=1, kernel=rbf;, score=0.025 total time=   1.5s\n",
      "[CV 2/5] END .........C=10, gamma=1, kernel=rbf;, score=0.026 total time=   1.5s\n",
      "[CV 3/5] END .........C=10, gamma=1, kernel=rbf;, score=0.032 total time=   1.5s\n",
      "[CV 4/5] END .........C=10, gamma=1, kernel=rbf;, score=0.032 total time=   1.5s\n",
      "[CV 5/5] END .........C=10, gamma=1, kernel=rbf;, score=0.056 total time=   1.5s\n",
      "[CV 1/5] END ........C=10, gamma=10, kernel=rbf;, score=0.000 total time=   1.6s\n",
      "[CV 2/5] END ........C=10, gamma=10, kernel=rbf;, score=0.000 total time=   1.8s\n",
      "[CV 3/5] END ........C=10, gamma=10, kernel=rbf;, score=0.000 total time=   1.7s\n",
      "[CV 4/5] END ........C=10, gamma=10, kernel=rbf;, score=0.000 total time=   1.7s\n",
      "[CV 5/5] END ........C=10, gamma=10, kernel=rbf;, score=0.000 total time=   1.7s\n"
     ]
    },
    {
     "data": {
      "text/html": [
       "<style>#sk-container-id-36 {color: black;}#sk-container-id-36 pre{padding: 0;}#sk-container-id-36 div.sk-toggleable {background-color: white;}#sk-container-id-36 label.sk-toggleable__label {cursor: pointer;display: block;width: 100%;margin-bottom: 0;padding: 0.3em;box-sizing: border-box;text-align: center;}#sk-container-id-36 label.sk-toggleable__label-arrow:before {content: \"▸\";float: left;margin-right: 0.25em;color: #696969;}#sk-container-id-36 label.sk-toggleable__label-arrow:hover:before {color: black;}#sk-container-id-36 div.sk-estimator:hover label.sk-toggleable__label-arrow:before {color: black;}#sk-container-id-36 div.sk-toggleable__content {max-height: 0;max-width: 0;overflow: hidden;text-align: left;background-color: #f0f8ff;}#sk-container-id-36 div.sk-toggleable__content pre {margin: 0.2em;color: black;border-radius: 0.25em;background-color: #f0f8ff;}#sk-container-id-36 input.sk-toggleable__control:checked~div.sk-toggleable__content {max-height: 200px;max-width: 100%;overflow: auto;}#sk-container-id-36 input.sk-toggleable__control:checked~label.sk-toggleable__label-arrow:before {content: \"▾\";}#sk-container-id-36 div.sk-estimator input.sk-toggleable__control:checked~label.sk-toggleable__label {background-color: #d4ebff;}#sk-container-id-36 div.sk-label input.sk-toggleable__control:checked~label.sk-toggleable__label {background-color: #d4ebff;}#sk-container-id-36 input.sk-hidden--visually {border: 0;clip: rect(1px 1px 1px 1px);clip: rect(1px, 1px, 1px, 1px);height: 1px;margin: -1px;overflow: hidden;padding: 0;position: absolute;width: 1px;}#sk-container-id-36 div.sk-estimator {font-family: monospace;background-color: #f0f8ff;border: 1px dotted black;border-radius: 0.25em;box-sizing: border-box;margin-bottom: 0.5em;}#sk-container-id-36 div.sk-estimator:hover {background-color: #d4ebff;}#sk-container-id-36 div.sk-parallel-item::after {content: \"\";width: 100%;border-bottom: 1px solid gray;flex-grow: 1;}#sk-container-id-36 div.sk-label:hover label.sk-toggleable__label {background-color: #d4ebff;}#sk-container-id-36 div.sk-serial::before {content: \"\";position: absolute;border-left: 1px solid gray;box-sizing: border-box;top: 0;bottom: 0;left: 50%;z-index: 0;}#sk-container-id-36 div.sk-serial {display: flex;flex-direction: column;align-items: center;background-color: white;padding-right: 0.2em;padding-left: 0.2em;position: relative;}#sk-container-id-36 div.sk-item {position: relative;z-index: 1;}#sk-container-id-36 div.sk-parallel {display: flex;align-items: stretch;justify-content: center;background-color: white;position: relative;}#sk-container-id-36 div.sk-item::before, #sk-container-id-36 div.sk-parallel-item::before {content: \"\";position: absolute;border-left: 1px solid gray;box-sizing: border-box;top: 0;bottom: 0;left: 50%;z-index: -1;}#sk-container-id-36 div.sk-parallel-item {display: flex;flex-direction: column;z-index: 1;position: relative;background-color: white;}#sk-container-id-36 div.sk-parallel-item:first-child::after {align-self: flex-end;width: 50%;}#sk-container-id-36 div.sk-parallel-item:last-child::after {align-self: flex-start;width: 50%;}#sk-container-id-36 div.sk-parallel-item:only-child::after {width: 0;}#sk-container-id-36 div.sk-dashed-wrapped {border: 1px dashed gray;margin: 0 0.4em 0.5em 0.4em;box-sizing: border-box;padding-bottom: 0.4em;background-color: white;}#sk-container-id-36 div.sk-label label {font-family: monospace;font-weight: bold;display: inline-block;line-height: 1.2em;}#sk-container-id-36 div.sk-label-container {text-align: center;}#sk-container-id-36 div.sk-container {/* jupyter's `normalize.less` sets `[hidden] { display: none; }` but bootstrap.min.css set `[hidden] { display: none !important; }` so we also need the `!important` here to be able to override the default hidden behavior on the sphinx rendered scikit-learn.org. See: https://github.com/scikit-learn/scikit-learn/issues/21755 */display: inline-block !important;position: relative;}#sk-container-id-36 div.sk-text-repr-fallback {display: none;}</style><div id=\"sk-container-id-36\" class=\"sk-top-container\"><div class=\"sk-text-repr-fallback\"><pre>GridSearchCV(cv=5, estimator=SVC(class_weight={0: 1, 1: 2}),\n",
       "             param_grid=[{&#x27;C&#x27;: [0.01, 0.1, 1, 10], &#x27;kernel&#x27;: [&#x27;linear&#x27;]},\n",
       "                         {&#x27;C&#x27;: [0.01, 0.1, 1, 10], &#x27;gamma&#x27;: [0.01, 0.1, 1, 10],\n",
       "                          &#x27;kernel&#x27;: [&#x27;rbf&#x27;]}],\n",
       "             scoring=&#x27;f1&#x27;, verbose=5)</pre><b>In a Jupyter environment, please rerun this cell to show the HTML representation or trust the notebook. <br />On GitHub, the HTML representation is unable to render, please try loading this page with nbviewer.org.</b></div><div class=\"sk-container\" hidden><div class=\"sk-item sk-dashed-wrapped\"><div class=\"sk-label-container\"><div class=\"sk-label sk-toggleable\"><input class=\"sk-toggleable__control sk-hidden--visually\" id=\"sk-estimator-id-44\" type=\"checkbox\" ><label for=\"sk-estimator-id-44\" class=\"sk-toggleable__label sk-toggleable__label-arrow\">GridSearchCV</label><div class=\"sk-toggleable__content\"><pre>GridSearchCV(cv=5, estimator=SVC(class_weight={0: 1, 1: 2}),\n",
       "             param_grid=[{&#x27;C&#x27;: [0.01, 0.1, 1, 10], &#x27;kernel&#x27;: [&#x27;linear&#x27;]},\n",
       "                         {&#x27;C&#x27;: [0.01, 0.1, 1, 10], &#x27;gamma&#x27;: [0.01, 0.1, 1, 10],\n",
       "                          &#x27;kernel&#x27;: [&#x27;rbf&#x27;]}],\n",
       "             scoring=&#x27;f1&#x27;, verbose=5)</pre></div></div></div><div class=\"sk-parallel\"><div class=\"sk-parallel-item\"><div class=\"sk-item\"><div class=\"sk-label-container\"><div class=\"sk-label sk-toggleable\"><input class=\"sk-toggleable__control sk-hidden--visually\" id=\"sk-estimator-id-45\" type=\"checkbox\" ><label for=\"sk-estimator-id-45\" class=\"sk-toggleable__label sk-toggleable__label-arrow\">estimator: SVC</label><div class=\"sk-toggleable__content\"><pre>SVC(class_weight={0: 1, 1: 2})</pre></div></div></div><div class=\"sk-serial\"><div class=\"sk-item\"><div class=\"sk-estimator sk-toggleable\"><input class=\"sk-toggleable__control sk-hidden--visually\" id=\"sk-estimator-id-46\" type=\"checkbox\" ><label for=\"sk-estimator-id-46\" class=\"sk-toggleable__label sk-toggleable__label-arrow\">SVC</label><div class=\"sk-toggleable__content\"><pre>SVC(class_weight={0: 1, 1: 2})</pre></div></div></div></div></div></div></div></div></div></div>"
      ],
      "text/plain": [
       "GridSearchCV(cv=5, estimator=SVC(class_weight={0: 1, 1: 2}),\n",
       "             param_grid=[{'C': [0.01, 0.1, 1, 10], 'kernel': ['linear']},\n",
       "                         {'C': [0.01, 0.1, 1, 10], 'gamma': [0.01, 0.1, 1, 10],\n",
       "                          'kernel': ['rbf']}],\n",
       "             scoring='f1', verbose=5)"
      ]
     },
     "execution_count": 98,
     "metadata": {},
     "output_type": "execute_result"
    }
   ],
   "source": [
    "gs.fit(X_train, Y_train)"
   ]
  },
  {
   "cell_type": "code",
   "execution_count": 9,
   "id": "cac96799",
   "metadata": {},
   "outputs": [],
   "source": [
    "from sklearn.metrics import confusion_matrix, accuracy_score, precision_score, recall_score, f1_score, classification_report\n",
    "from termcolor import colored\n",
    "\n",
    "def report(model, x, y, text = \"training\"):\n",
    "    y_pred = model.predict(x)\n",
    "    \n",
    "    print(colored(\"Classification report for model {} on {} data\".format(type(model).__name__, text), \"green\"))\n",
    "    print(\"---------------------------------------------------------------------------------\")\n",
    "    print(classification_report(y, y_pred))\n",
    "    print(\"---------------------------------------------------------------------------------\")\n",
    "    \n",
    "    print(colored(\"Confusion matrix for model {} on {} data \".format(type(model).__name__, text), \"green\"))\n",
    "    print(\"---------------------------------------------------------------------------------\")\n",
    "    print(pd.DataFrame(confusion_matrix(y, y_pred), columns=['B', 'M'], index=['B', 'M']))\n",
    "    print(\"---------------------------------------------------------------------------------\")\n",
    "    print('F1 score: ', f1_score(y, y_pred))\n",
    "    print('Accuracy score: ', accuracy_score(y, y_pred))"
   ]
  },
  {
   "cell_type": "code",
   "execution_count": 17,
   "id": "57b984a9",
   "metadata": {
    "scrolled": false
   },
   "outputs": [
    {
     "name": "stdout",
     "output_type": "stream",
     "text": [
      "\u001b[32mClassification report for model SVC on training data\u001b[0m\n",
      "---------------------------------------------------------------------------------\n",
      "              precision    recall  f1-score   support\n",
      "\n",
      "           0       0.89      0.92      0.91      1991\n",
      "           1       0.64      0.56      0.60       509\n",
      "\n",
      "    accuracy                           0.85      2500\n",
      "   macro avg       0.77      0.74      0.75      2500\n",
      "weighted avg       0.84      0.85      0.84      2500\n",
      "\n",
      "---------------------------------------------------------------------------------\n",
      "\u001b[32mConfusion matrix for model SVC on training data \u001b[0m\n",
      "---------------------------------------------------------------------------------\n",
      "      B    M\n",
      "B  1831  160\n",
      "M   222  287\n",
      "---------------------------------------------------------------------------------\n",
      "F1 score:  0.600418410041841\n",
      "Accuracy score:  0.8472\n"
     ]
    }
   ],
   "source": [
    "report(gs.best_estimator_, X_test, Y_test)"
   ]
  },
  {
   "cell_type": "code",
   "execution_count": 25,
   "id": "44274f55",
   "metadata": {},
   "outputs": [
    {
     "data": {
      "text/plain": [
       "{'C': 10, 'gamma': 0.01, 'kernel': 'rbf'}"
      ]
     },
     "execution_count": 25,
     "metadata": {},
     "output_type": "execute_result"
    }
   ],
   "source": [
    "gs.best_params_"
   ]
  },
  {
   "cell_type": "markdown",
   "id": "1bd9f72d",
   "metadata": {},
   "source": [
    "## HistGradientBoostingClassifier"
   ]
  },
  {
   "cell_type": "code",
   "execution_count": 127,
   "id": "3da6b331",
   "metadata": {
    "scrolled": true
   },
   "outputs": [
    {
     "data": {
      "text/html": [
       "<style>#sk-container-id-45 {color: black;}#sk-container-id-45 pre{padding: 0;}#sk-container-id-45 div.sk-toggleable {background-color: white;}#sk-container-id-45 label.sk-toggleable__label {cursor: pointer;display: block;width: 100%;margin-bottom: 0;padding: 0.3em;box-sizing: border-box;text-align: center;}#sk-container-id-45 label.sk-toggleable__label-arrow:before {content: \"▸\";float: left;margin-right: 0.25em;color: #696969;}#sk-container-id-45 label.sk-toggleable__label-arrow:hover:before {color: black;}#sk-container-id-45 div.sk-estimator:hover label.sk-toggleable__label-arrow:before {color: black;}#sk-container-id-45 div.sk-toggleable__content {max-height: 0;max-width: 0;overflow: hidden;text-align: left;background-color: #f0f8ff;}#sk-container-id-45 div.sk-toggleable__content pre {margin: 0.2em;color: black;border-radius: 0.25em;background-color: #f0f8ff;}#sk-container-id-45 input.sk-toggleable__control:checked~div.sk-toggleable__content {max-height: 200px;max-width: 100%;overflow: auto;}#sk-container-id-45 input.sk-toggleable__control:checked~label.sk-toggleable__label-arrow:before {content: \"▾\";}#sk-container-id-45 div.sk-estimator input.sk-toggleable__control:checked~label.sk-toggleable__label {background-color: #d4ebff;}#sk-container-id-45 div.sk-label input.sk-toggleable__control:checked~label.sk-toggleable__label {background-color: #d4ebff;}#sk-container-id-45 input.sk-hidden--visually {border: 0;clip: rect(1px 1px 1px 1px);clip: rect(1px, 1px, 1px, 1px);height: 1px;margin: -1px;overflow: hidden;padding: 0;position: absolute;width: 1px;}#sk-container-id-45 div.sk-estimator {font-family: monospace;background-color: #f0f8ff;border: 1px dotted black;border-radius: 0.25em;box-sizing: border-box;margin-bottom: 0.5em;}#sk-container-id-45 div.sk-estimator:hover {background-color: #d4ebff;}#sk-container-id-45 div.sk-parallel-item::after {content: \"\";width: 100%;border-bottom: 1px solid gray;flex-grow: 1;}#sk-container-id-45 div.sk-label:hover label.sk-toggleable__label {background-color: #d4ebff;}#sk-container-id-45 div.sk-serial::before {content: \"\";position: absolute;border-left: 1px solid gray;box-sizing: border-box;top: 0;bottom: 0;left: 50%;z-index: 0;}#sk-container-id-45 div.sk-serial {display: flex;flex-direction: column;align-items: center;background-color: white;padding-right: 0.2em;padding-left: 0.2em;position: relative;}#sk-container-id-45 div.sk-item {position: relative;z-index: 1;}#sk-container-id-45 div.sk-parallel {display: flex;align-items: stretch;justify-content: center;background-color: white;position: relative;}#sk-container-id-45 div.sk-item::before, #sk-container-id-45 div.sk-parallel-item::before {content: \"\";position: absolute;border-left: 1px solid gray;box-sizing: border-box;top: 0;bottom: 0;left: 50%;z-index: -1;}#sk-container-id-45 div.sk-parallel-item {display: flex;flex-direction: column;z-index: 1;position: relative;background-color: white;}#sk-container-id-45 div.sk-parallel-item:first-child::after {align-self: flex-end;width: 50%;}#sk-container-id-45 div.sk-parallel-item:last-child::after {align-self: flex-start;width: 50%;}#sk-container-id-45 div.sk-parallel-item:only-child::after {width: 0;}#sk-container-id-45 div.sk-dashed-wrapped {border: 1px dashed gray;margin: 0 0.4em 0.5em 0.4em;box-sizing: border-box;padding-bottom: 0.4em;background-color: white;}#sk-container-id-45 div.sk-label label {font-family: monospace;font-weight: bold;display: inline-block;line-height: 1.2em;}#sk-container-id-45 div.sk-label-container {text-align: center;}#sk-container-id-45 div.sk-container {/* jupyter's `normalize.less` sets `[hidden] { display: none; }` but bootstrap.min.css set `[hidden] { display: none !important; }` so we also need the `!important` here to be able to override the default hidden behavior on the sphinx rendered scikit-learn.org. See: https://github.com/scikit-learn/scikit-learn/issues/21755 */display: inline-block !important;position: relative;}#sk-container-id-45 div.sk-text-repr-fallback {display: none;}</style><div id=\"sk-container-id-45\" class=\"sk-top-container\"><div class=\"sk-text-repr-fallback\"><pre>RandomizedSearchCV(cv=4,\n",
       "                   estimator=HistGradientBoostingClassifier(class_weight={0: 1,\n",
       "                                                                          1: 2}),\n",
       "                   n_jobs=-1,\n",
       "                   param_distributions={&#x27;l2_regularization&#x27;: [0.0, 0.1, 0.2],\n",
       "                                        &#x27;learning_rate&#x27;: [0.01, 0.1, 0.2],\n",
       "                                        &#x27;max_bins&#x27;: [50, 100, 255],\n",
       "                                        &#x27;max_depth&#x27;: [3, 4, 5],\n",
       "                                        &#x27;max_iter&#x27;: [100, 200, 300],\n",
       "                                        &#x27;max_leaf_nodes&#x27;: [15, 31, 63],\n",
       "                                        &#x27;min_samples_leaf&#x27;: [1, 2, 4]},\n",
       "                   scoring=&#x27;f1&#x27;)</pre><b>In a Jupyter environment, please rerun this cell to show the HTML representation or trust the notebook. <br />On GitHub, the HTML representation is unable to render, please try loading this page with nbviewer.org.</b></div><div class=\"sk-container\" hidden><div class=\"sk-item sk-dashed-wrapped\"><div class=\"sk-label-container\"><div class=\"sk-label sk-toggleable\"><input class=\"sk-toggleable__control sk-hidden--visually\" id=\"sk-estimator-id-71\" type=\"checkbox\" ><label for=\"sk-estimator-id-71\" class=\"sk-toggleable__label sk-toggleable__label-arrow\">RandomizedSearchCV</label><div class=\"sk-toggleable__content\"><pre>RandomizedSearchCV(cv=4,\n",
       "                   estimator=HistGradientBoostingClassifier(class_weight={0: 1,\n",
       "                                                                          1: 2}),\n",
       "                   n_jobs=-1,\n",
       "                   param_distributions={&#x27;l2_regularization&#x27;: [0.0, 0.1, 0.2],\n",
       "                                        &#x27;learning_rate&#x27;: [0.01, 0.1, 0.2],\n",
       "                                        &#x27;max_bins&#x27;: [50, 100, 255],\n",
       "                                        &#x27;max_depth&#x27;: [3, 4, 5],\n",
       "                                        &#x27;max_iter&#x27;: [100, 200, 300],\n",
       "                                        &#x27;max_leaf_nodes&#x27;: [15, 31, 63],\n",
       "                                        &#x27;min_samples_leaf&#x27;: [1, 2, 4]},\n",
       "                   scoring=&#x27;f1&#x27;)</pre></div></div></div><div class=\"sk-parallel\"><div class=\"sk-parallel-item\"><div class=\"sk-item\"><div class=\"sk-label-container\"><div class=\"sk-label sk-toggleable\"><input class=\"sk-toggleable__control sk-hidden--visually\" id=\"sk-estimator-id-72\" type=\"checkbox\" ><label for=\"sk-estimator-id-72\" class=\"sk-toggleable__label sk-toggleable__label-arrow\">estimator: HistGradientBoostingClassifier</label><div class=\"sk-toggleable__content\"><pre>HistGradientBoostingClassifier(class_weight={0: 1, 1: 2})</pre></div></div></div><div class=\"sk-serial\"><div class=\"sk-item\"><div class=\"sk-estimator sk-toggleable\"><input class=\"sk-toggleable__control sk-hidden--visually\" id=\"sk-estimator-id-73\" type=\"checkbox\" ><label for=\"sk-estimator-id-73\" class=\"sk-toggleable__label sk-toggleable__label-arrow\">HistGradientBoostingClassifier</label><div class=\"sk-toggleable__content\"><pre>HistGradientBoostingClassifier(class_weight={0: 1, 1: 2})</pre></div></div></div></div></div></div></div></div></div></div>"
      ],
      "text/plain": [
       "RandomizedSearchCV(cv=4,\n",
       "                   estimator=HistGradientBoostingClassifier(class_weight={0: 1,\n",
       "                                                                          1: 2}),\n",
       "                   n_jobs=-1,\n",
       "                   param_distributions={'l2_regularization': [0.0, 0.1, 0.2],\n",
       "                                        'learning_rate': [0.01, 0.1, 0.2],\n",
       "                                        'max_bins': [50, 100, 255],\n",
       "                                        'max_depth': [3, 4, 5],\n",
       "                                        'max_iter': [100, 200, 300],\n",
       "                                        'max_leaf_nodes': [15, 31, 63],\n",
       "                                        'min_samples_leaf': [1, 2, 4]},\n",
       "                   scoring='f1')"
      ]
     },
     "execution_count": 127,
     "metadata": {},
     "output_type": "execute_result"
    }
   ],
   "source": [
    "from sklearn.ensemble import HistGradientBoostingClassifier\n",
    "from sklearn.model_selection import RandomizedSearchCV\n",
    "\n",
    "param_grid = {\n",
    "    'learning_rate': [0.01, 0.1, 0.2],\n",
    "    'max_depth': [3, 4, 5],\n",
    "    'max_iter': [100, 200, 300],\n",
    "    'max_leaf_nodes': [15, 31, 63],\n",
    "    'min_samples_leaf': [1, 2, 4],\n",
    "    'l2_regularization': [0.0, 0.1, 0.2],\n",
    "    'max_bins': [50, 100, 255]\n",
    "}\n",
    "\n",
    "hgb_grid = RandomizedSearchCV(HistGradientBoostingClassifier(class_weight={1:2, 0:1}),param_grid, cv = 4, n_jobs = -1, scoring='f1')\n",
    "hgb_grid.fit(X_train, Y_train)"
   ]
  },
  {
   "cell_type": "code",
   "execution_count": 128,
   "id": "11582dc3",
   "metadata": {},
   "outputs": [
    {
     "name": "stdout",
     "output_type": "stream",
     "text": [
      "\u001b[32mClassification report for model HistGradientBoostingClassifier on training data\u001b[0m\n",
      "---------------------------------------------------------------------------------\n",
      "              precision    recall  f1-score   support\n",
      "\n",
      "           0       0.90      0.91      0.91      1991\n",
      "           1       0.63      0.62      0.63       509\n",
      "\n",
      "    accuracy                           0.85      2500\n",
      "   macro avg       0.77      0.76      0.77      2500\n",
      "weighted avg       0.85      0.85      0.85      2500\n",
      "\n",
      "---------------------------------------------------------------------------------\n",
      "\u001b[32mConfusion matrix for model HistGradientBoostingClassifier on training data \u001b[0m\n",
      "---------------------------------------------------------------------------------\n",
      "      B    M\n",
      "B  1809  182\n",
      "M   194  315\n",
      "---------------------------------------------------------------------------------\n",
      "F1 score:  0.6262425447316103\n",
      "Accuracy score:  0.8496\n"
     ]
    }
   ],
   "source": [
    "report(hgb_grid.best_estimator_, X_test, Y_test)"
   ]
  },
  {
   "cell_type": "markdown",
   "id": "b74a5822",
   "metadata": {},
   "source": [
    "Pokusacemo da odradimo resampling i da ponovo pokrenemo algoritam."
   ]
  },
  {
   "cell_type": "code",
   "execution_count": 129,
   "id": "ef17c7a6",
   "metadata": {},
   "outputs": [
    {
     "name": "stdout",
     "output_type": "stream",
     "text": [
      "\u001b[32mNumber of instances before resampling with SMOTE : dict_items([(0, 5971), (1, 1529)]). \u001b[0m\n",
      "\u001b[34mNumber of instances after  resampling with SMOTE : dict_items([(0, 5971), (1, 5971)]). \u001b[0m\n"
     ]
    }
   ],
   "source": [
    "from imblearn.over_sampling import SMOTE\n",
    "smote = SMOTE(k_neighbors=10, random_state=42)\n",
    "\n",
    "X_resampled, y_resampled = resample(smote, X_train, Y_train)"
   ]
  },
  {
   "cell_type": "code",
   "execution_count": 130,
   "id": "0db1cf81",
   "metadata": {},
   "outputs": [
    {
     "data": {
      "text/html": [
       "<style>#sk-container-id-46 {color: black;}#sk-container-id-46 pre{padding: 0;}#sk-container-id-46 div.sk-toggleable {background-color: white;}#sk-container-id-46 label.sk-toggleable__label {cursor: pointer;display: block;width: 100%;margin-bottom: 0;padding: 0.3em;box-sizing: border-box;text-align: center;}#sk-container-id-46 label.sk-toggleable__label-arrow:before {content: \"▸\";float: left;margin-right: 0.25em;color: #696969;}#sk-container-id-46 label.sk-toggleable__label-arrow:hover:before {color: black;}#sk-container-id-46 div.sk-estimator:hover label.sk-toggleable__label-arrow:before {color: black;}#sk-container-id-46 div.sk-toggleable__content {max-height: 0;max-width: 0;overflow: hidden;text-align: left;background-color: #f0f8ff;}#sk-container-id-46 div.sk-toggleable__content pre {margin: 0.2em;color: black;border-radius: 0.25em;background-color: #f0f8ff;}#sk-container-id-46 input.sk-toggleable__control:checked~div.sk-toggleable__content {max-height: 200px;max-width: 100%;overflow: auto;}#sk-container-id-46 input.sk-toggleable__control:checked~label.sk-toggleable__label-arrow:before {content: \"▾\";}#sk-container-id-46 div.sk-estimator input.sk-toggleable__control:checked~label.sk-toggleable__label {background-color: #d4ebff;}#sk-container-id-46 div.sk-label input.sk-toggleable__control:checked~label.sk-toggleable__label {background-color: #d4ebff;}#sk-container-id-46 input.sk-hidden--visually {border: 0;clip: rect(1px 1px 1px 1px);clip: rect(1px, 1px, 1px, 1px);height: 1px;margin: -1px;overflow: hidden;padding: 0;position: absolute;width: 1px;}#sk-container-id-46 div.sk-estimator {font-family: monospace;background-color: #f0f8ff;border: 1px dotted black;border-radius: 0.25em;box-sizing: border-box;margin-bottom: 0.5em;}#sk-container-id-46 div.sk-estimator:hover {background-color: #d4ebff;}#sk-container-id-46 div.sk-parallel-item::after {content: \"\";width: 100%;border-bottom: 1px solid gray;flex-grow: 1;}#sk-container-id-46 div.sk-label:hover label.sk-toggleable__label {background-color: #d4ebff;}#sk-container-id-46 div.sk-serial::before {content: \"\";position: absolute;border-left: 1px solid gray;box-sizing: border-box;top: 0;bottom: 0;left: 50%;z-index: 0;}#sk-container-id-46 div.sk-serial {display: flex;flex-direction: column;align-items: center;background-color: white;padding-right: 0.2em;padding-left: 0.2em;position: relative;}#sk-container-id-46 div.sk-item {position: relative;z-index: 1;}#sk-container-id-46 div.sk-parallel {display: flex;align-items: stretch;justify-content: center;background-color: white;position: relative;}#sk-container-id-46 div.sk-item::before, #sk-container-id-46 div.sk-parallel-item::before {content: \"\";position: absolute;border-left: 1px solid gray;box-sizing: border-box;top: 0;bottom: 0;left: 50%;z-index: -1;}#sk-container-id-46 div.sk-parallel-item {display: flex;flex-direction: column;z-index: 1;position: relative;background-color: white;}#sk-container-id-46 div.sk-parallel-item:first-child::after {align-self: flex-end;width: 50%;}#sk-container-id-46 div.sk-parallel-item:last-child::after {align-self: flex-start;width: 50%;}#sk-container-id-46 div.sk-parallel-item:only-child::after {width: 0;}#sk-container-id-46 div.sk-dashed-wrapped {border: 1px dashed gray;margin: 0 0.4em 0.5em 0.4em;box-sizing: border-box;padding-bottom: 0.4em;background-color: white;}#sk-container-id-46 div.sk-label label {font-family: monospace;font-weight: bold;display: inline-block;line-height: 1.2em;}#sk-container-id-46 div.sk-label-container {text-align: center;}#sk-container-id-46 div.sk-container {/* jupyter's `normalize.less` sets `[hidden] { display: none; }` but bootstrap.min.css set `[hidden] { display: none !important; }` so we also need the `!important` here to be able to override the default hidden behavior on the sphinx rendered scikit-learn.org. See: https://github.com/scikit-learn/scikit-learn/issues/21755 */display: inline-block !important;position: relative;}#sk-container-id-46 div.sk-text-repr-fallback {display: none;}</style><div id=\"sk-container-id-46\" class=\"sk-top-container\"><div class=\"sk-text-repr-fallback\"><pre>RandomizedSearchCV(cv=4, estimator=HistGradientBoostingClassifier(), n_jobs=-1,\n",
       "                   param_distributions={&#x27;l2_regularization&#x27;: [0.0, 0.1, 0.2],\n",
       "                                        &#x27;learning_rate&#x27;: [0.01, 0.1, 0.2],\n",
       "                                        &#x27;max_bins&#x27;: [50, 100, 255],\n",
       "                                        &#x27;max_depth&#x27;: [3, 4, 5],\n",
       "                                        &#x27;max_iter&#x27;: [100, 200, 300],\n",
       "                                        &#x27;max_leaf_nodes&#x27;: [15, 31, 63],\n",
       "                                        &#x27;min_samples_leaf&#x27;: [1, 2, 4]},\n",
       "                   scoring=&#x27;f1&#x27;)</pre><b>In a Jupyter environment, please rerun this cell to show the HTML representation or trust the notebook. <br />On GitHub, the HTML representation is unable to render, please try loading this page with nbviewer.org.</b></div><div class=\"sk-container\" hidden><div class=\"sk-item sk-dashed-wrapped\"><div class=\"sk-label-container\"><div class=\"sk-label sk-toggleable\"><input class=\"sk-toggleable__control sk-hidden--visually\" id=\"sk-estimator-id-74\" type=\"checkbox\" ><label for=\"sk-estimator-id-74\" class=\"sk-toggleable__label sk-toggleable__label-arrow\">RandomizedSearchCV</label><div class=\"sk-toggleable__content\"><pre>RandomizedSearchCV(cv=4, estimator=HistGradientBoostingClassifier(), n_jobs=-1,\n",
       "                   param_distributions={&#x27;l2_regularization&#x27;: [0.0, 0.1, 0.2],\n",
       "                                        &#x27;learning_rate&#x27;: [0.01, 0.1, 0.2],\n",
       "                                        &#x27;max_bins&#x27;: [50, 100, 255],\n",
       "                                        &#x27;max_depth&#x27;: [3, 4, 5],\n",
       "                                        &#x27;max_iter&#x27;: [100, 200, 300],\n",
       "                                        &#x27;max_leaf_nodes&#x27;: [15, 31, 63],\n",
       "                                        &#x27;min_samples_leaf&#x27;: [1, 2, 4]},\n",
       "                   scoring=&#x27;f1&#x27;)</pre></div></div></div><div class=\"sk-parallel\"><div class=\"sk-parallel-item\"><div class=\"sk-item\"><div class=\"sk-label-container\"><div class=\"sk-label sk-toggleable\"><input class=\"sk-toggleable__control sk-hidden--visually\" id=\"sk-estimator-id-75\" type=\"checkbox\" ><label for=\"sk-estimator-id-75\" class=\"sk-toggleable__label sk-toggleable__label-arrow\">estimator: HistGradientBoostingClassifier</label><div class=\"sk-toggleable__content\"><pre>HistGradientBoostingClassifier()</pre></div></div></div><div class=\"sk-serial\"><div class=\"sk-item\"><div class=\"sk-estimator sk-toggleable\"><input class=\"sk-toggleable__control sk-hidden--visually\" id=\"sk-estimator-id-76\" type=\"checkbox\" ><label for=\"sk-estimator-id-76\" class=\"sk-toggleable__label sk-toggleable__label-arrow\">HistGradientBoostingClassifier</label><div class=\"sk-toggleable__content\"><pre>HistGradientBoostingClassifier()</pre></div></div></div></div></div></div></div></div></div></div>"
      ],
      "text/plain": [
       "RandomizedSearchCV(cv=4, estimator=HistGradientBoostingClassifier(), n_jobs=-1,\n",
       "                   param_distributions={'l2_regularization': [0.0, 0.1, 0.2],\n",
       "                                        'learning_rate': [0.01, 0.1, 0.2],\n",
       "                                        'max_bins': [50, 100, 255],\n",
       "                                        'max_depth': [3, 4, 5],\n",
       "                                        'max_iter': [100, 200, 300],\n",
       "                                        'max_leaf_nodes': [15, 31, 63],\n",
       "                                        'min_samples_leaf': [1, 2, 4]},\n",
       "                   scoring='f1')"
      ]
     },
     "execution_count": 130,
     "metadata": {},
     "output_type": "execute_result"
    }
   ],
   "source": [
    "hgb_grid_resampled = RandomizedSearchCV(HistGradientBoostingClassifier(),param_grid, cv = 4, n_jobs = -1, scoring='f1')\n",
    "hgb_grid_resampled.fit(X_resampled, y_resampled)"
   ]
  },
  {
   "cell_type": "code",
   "execution_count": 131,
   "id": "e0e68e9c",
   "metadata": {
    "scrolled": true
   },
   "outputs": [
    {
     "name": "stdout",
     "output_type": "stream",
     "text": [
      "\u001b[32mClassification report for model HistGradientBoostingClassifier on training data\u001b[0m\n",
      "---------------------------------------------------------------------------------\n",
      "              precision    recall  f1-score   support\n",
      "\n",
      "           0       0.91      0.90      0.90      1991\n",
      "           1       0.62      0.66      0.64       509\n",
      "\n",
      "    accuracy                           0.85      2500\n",
      "   macro avg       0.77      0.78      0.77      2500\n",
      "weighted avg       0.85      0.85      0.85      2500\n",
      "\n",
      "---------------------------------------------------------------------------------\n",
      "\u001b[32mConfusion matrix for model HistGradientBoostingClassifier on training data \u001b[0m\n",
      "---------------------------------------------------------------------------------\n",
      "      B    M\n",
      "B  1788  203\n",
      "M   173  336\n",
      "---------------------------------------------------------------------------------\n",
      "F1 score:  0.6412213740458015\n",
      "Accuracy score:  0.8496\n"
     ]
    }
   ],
   "source": [
    "report(hgb_grid_resampled.best_estimator_, X_test, Y_test)"
   ]
  },
  {
   "cell_type": "code",
   "execution_count": 132,
   "id": "7b06f86e",
   "metadata": {},
   "outputs": [
    {
     "data": {
      "image/png": "[encoded data removed]",
      "text/plain": [
       "<Figure size 640x480 with 1 Axes>"
      ]
     },
     "metadata": {},
     "output_type": "display_data"
    }
   ],
   "source": [
    "from sklearn.metrics import roc_curve, roc_auc_score\n",
    "models = [gs.best_estimator_, hgb_grid.best_estimator_, hgb_grid_resampled.best_estimator_]\n",
    "model_names = ['SVM', 'GradientBoosting',  'GradientBoosting - resampled']\n",
    "for model, model_name in zip(models, model_names):\n",
    "    y_pred = model.predict(X_test)\n",
    "    fpr,tpr, _ = roc_curve(Y_test, y_pred)\n",
    "    auc = roc_auc_score(Y_test, y_pred)\n",
    "    lab = model_name + \"(auc: \" + str(round(auc, 2)) + \")\"\n",
    "    plt.plot(fpr, tpr, label=lab)\n",
    "\n",
    "plt.plot([0, 1], [0, 1], label='Random (auc: 0.5)', color='red')\n",
    "plt.title(\"Model comparison\")\n",
    "plt.legend()\n",
    "plt.show()"
   ]
  },
  {
   "cell_type": "markdown",
   "id": "691d2495",
   "metadata": {},
   "source": [
    "Mozemo primetiti da nam je balansiranje klasa SMOTE tehnikom doprinelo kvalitetu modela."
   ]
  }
 ],
 "metadata": {
  "kernelspec": {
   "display_name": "Python 3 (ipykernel)",
   "language": "python",
   "name": "python3"
  },
  "language_info": {
   "codemirror_mode": {
    "name": "ipython",
    "version": 3
   },
   "file_extension": ".py",
   "mimetype": "text/x-python",
   "name": "python",
   "nbconvert_exporter": "python",
   "pygments_lexer": "ipython3",
   "version": "3.10.6"
  }
 },
 "nbformat": 4,
 "nbformat_minor": 5
}
